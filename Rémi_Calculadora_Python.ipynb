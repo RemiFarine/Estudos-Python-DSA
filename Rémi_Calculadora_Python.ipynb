{
  "nbformat": 4,
  "nbformat_minor": 0,
  "metadata": {
    "colab": {
      "name": "Rémi_Calculadora_Python.ipynb",
      "provenance": [],
      "authorship_tag": "ABX9TyOPSXcNcMMUSQSBf2iXaC4n",
      "include_colab_link": true
    },
    "kernelspec": {
      "name": "python3",
      "display_name": "Python 3"
    },
    "language_info": {
      "name": "python"
    }
  },
  "cells": [
    {
      "cell_type": "markdown",
      "metadata": {
        "id": "view-in-github",
        "colab_type": "text"
      },
      "source": [
        "<a href=\"https://colab.research.google.com/github/RemiFarine/Estudos-Python-DSA/blob/main/R%C3%A9mi_Calculadora_Python.ipynb\" target=\"_parent\"><img src=\"https://colab.research.google.com/assets/colab-badge.svg\" alt=\"Open In Colab\"/></a>"
      ]
    },
    {
      "cell_type": "markdown",
      "source": [
        "# Desafio - Calculadora em Python"
      ],
      "metadata": {
        "id": "Cqh0gCWf9U7A"
      }
    },
    {
      "cell_type": "markdown",
      "source": [
        "### Desafio da Data Science Academy - capítulo 3. \n"
      ],
      "metadata": {
        "id": "yTQ0KfJD9Y4Z"
      }
    },
    {
      "cell_type": "markdown",
      "source": [
        "#### O objetivo era desenvolver uma calculadora simples em Python utilizando condicionais e funções.\n"
      ],
      "metadata": {
        "id": "lX2PiCms9cAc"
      }
    },
    {
      "cell_type": "code",
      "source": [
        "# Calculadora apenas com condicionais\n",
        "\n",
        "print(' ******************* Python Calculator ******************* \\n')\n",
        "print('Selecione o número da operação desejada:\\n')\n",
        "print('1 - Soma')\n",
        "print('2 - Subtração')\n",
        "print('3 - Multiplicação')\n",
        "print('4 - Divisão \\n')\n",
        "\n",
        "operacao = input('Digite sua opção (1/2/3/4):')\n",
        "n1 = int(input('\\nDigite o primeiro número:'))\n",
        "n2 = int(input('\\nDigite o segundo número:'))\n",
        "\n",
        "if operacao == '1':\n",
        "    print(\"\\n\",n1, \"+\", n2, \"=\", n1+n2)\n",
        "    \n",
        "elif operacao =='2':\n",
        "    print(\"\\n\",n1, \"-\", n2, \"=\", n1-n2)\n",
        "    \n",
        "elif operacao =='3':\n",
        "    print(\"\\n\",n1, \"*\", n2, \"=\", n1*n2)\n",
        "    \n",
        "elif operacao =='4':\n",
        "    print(\"\\n\",n1, \"/\", n2, \"=\", n1/n2)\n",
        "    \n",
        "else: \n",
        "    print('\\nOperação inválida')"
      ],
      "metadata": {
        "colab": {
          "base_uri": "https://localhost:8080/"
        },
        "id": "H0EpDBET9dz2",
        "outputId": "0e1fc48e-96f2-45d3-e082-24fc64ffd80b"
      },
      "execution_count": 1,
      "outputs": [
        {
          "output_type": "stream",
          "name": "stdout",
          "text": [
            " ******************* Python Calculator ******************* \n",
            "\n",
            "Selecione o número da operação desejada:\n",
            "\n",
            "1 - Soma\n",
            "2 - Subtração\n",
            "3 - Multiplicação\n",
            "4 - Divisão \n",
            "\n",
            "Digite sua opção (1/2/3/4):1\n",
            "\n",
            "Digite o primeiro número:2\n",
            "\n",
            "Digite o segundo número:2\n",
            "\n",
            " 2 + 2 = 4\n"
          ]
        }
      ]
    },
    {
      "cell_type": "code",
      "source": [
        "# Calculadora com condicionais e funções\n",
        "\n",
        "print(' ******************* Python Calculator ******************* \\n')\n",
        "\n",
        "def soma(n1,n2):\n",
        "    return n1+n2\n",
        "def subtracao(n1,n2):\n",
        "    return n1-n2\n",
        "def multiplicacao(n1,n2):\n",
        "    return n1*n2\n",
        "def divisao(n1,n2):\n",
        "    return n1/n2\n",
        "\n",
        "print('Selecione o número da operação desejada:\\n')\n",
        "print('1 - Soma')\n",
        "print('2 - Subtração')\n",
        "print('3 - Multiplicação')\n",
        "print('4 - Divisão \\n')\n",
        "\n",
        "operacao = input('Digite sua opção (1/2/3/4):')\n",
        "n1 = int(input('\\nDigite o primeiro número:'))\n",
        "n2 = int(input('\\nDigite o segundo número:'))\n",
        "\n",
        "if operacao == '1':\n",
        "    print(\"\\n\",n1, \"+\", n2, \"=\", soma(n1,n2))\n",
        "    \n",
        "elif operacao =='2':\n",
        "    print(\"\\n\",n1, \"-\", n2, \"=\", subtracao(n1,n2))\n",
        "\n",
        "elif operacao =='3':\n",
        "    print(\"\\n\",n1, \"*\", n2, \"=\", multiplicacao(n1,n2))\n",
        "\n",
        "elif operacao =='4':\n",
        "    print(\"\\n\",n1, \"/\", n2, \"=\", divisao(n1,n2))\n",
        "\n",
        "else: \n",
        "    print('\\nOperação inválida')\n",
        "    \n",
        "    "
      ],
      "metadata": {
        "colab": {
          "base_uri": "https://localhost:8080/"
        },
        "id": "pFu688eo9hIk",
        "outputId": "45d6dd38-08c1-473d-b78f-d88779c058dd"
      },
      "execution_count": 2,
      "outputs": [
        {
          "output_type": "stream",
          "name": "stdout",
          "text": [
            " ******************* Python Calculator ******************* \n",
            "\n",
            "Selecione o número da operação desejada:\n",
            "\n",
            "1 - Soma\n",
            "2 - Subtração\n",
            "3 - Multiplicação\n",
            "4 - Divisão \n",
            "\n",
            "Digite sua opção (1/2/3/4):5\n",
            "\n",
            "Digite o primeiro número:3\n",
            "\n",
            "Digite o segundo número:3\n",
            "\n",
            "Operação inválida\n"
          ]
        }
      ]
    }
  ]
}